{
 "cells": [
  {
   "cell_type": "code",
   "execution_count": 89,
   "id": "initial_id",
   "metadata": {
    "collapsed": true
   },
   "outputs": [],
   "source": [
    "from sympy import init_printing, Integral, sqrt, symbols, DiracDelta, Eq, Function, Piecewise, evaluate\n",
    "from IPython.display import display"
   ]
  },
  {
   "cell_type": "code",
   "execution_count": 90,
   "id": "9055b7de",
   "metadata": {},
   "outputs": [],
   "source": [
    "# lengths\n",
    "l_ab = 1.25\n",
    "l_bc = 1.25\n",
    "l_de = 1.75\n",
    "l_ef = 1.5\n",
    "l_fg = 0.25\n",
    "\n",
    "# masses of arms\n",
    "m_ab = 100\n",
    "m_bc = 100\n",
    "m_de = 50\n",
    "m_ef = 50\n",
    "\n",
    "# masses of electronics\n",
    "m_d = 200\n",
    "m_e = 200\n",
    "m_f = 100\n",
    "m_g = 100"
   ]
  },
  {
   "cell_type": "code",
   "execution_count": 91,
   "id": "65f7cc49",
   "metadata": {},
   "outputs": [
    {
     "data": {
      "text/latex": [
       "$\\displaystyle 333.333333333333 \\left(\\begin{cases} 1 & \\text{for}\\: x > 1.75 \\wedge x < 3.25 \\\\0 & \\text{otherwise} \\end{cases}\\right) + 285.714285714286 \\left(\\begin{cases} 1 & \\text{for}\\: x > 0 \\wedge x < 1.75 \\\\0 & \\text{otherwise} \\end{cases}\\right) + 2000 \\delta\\left(x\\right) + 1000 \\delta\\left(x - 3.5\\right) + 1000 \\delta\\left(x - 3.25\\right) + 2000 \\delta\\left(x - 1.75\\right)$"
      ],
      "text/plain": [
       "333.333333333333*Piecewise((1, (x > 1.75) & (x < 3.25)), (0, True)) + 285.714285714286*Piecewise((1, (x < 1.75) & (x > 0)), (0, True)) + 2000*DiracDelta(x) + 1000*DiracDelta(x - 3.5) + 1000*DiracDelta(x - 3.25) + 2000*DiracDelta(x - 1.75)"
      ]
     },
     "metadata": {},
     "output_type": "display_data"
    }
   ],
   "source": [
    "# SETUP 1\n",
    "F = Function(\"F\")\n",
    "x, l = symbols(\"x l\")\n",
    "\n",
    "g = 10\n",
    "\n",
    "D = 0\n",
    "E = l_de\n",
    "F = l_de + l_ef\n",
    "G = l_de + l_ef + l_fg\n",
    "\n",
    "Fx = \\\n",
    "    + m_d * g * DiracDelta(x - D) \\\n",
    "    + m_e * g * DiracDelta(x - E) \\\n",
    "    + m_f * g * DiracDelta(x - F) \\\n",
    "    + m_g * g * DiracDelta(x - G) \\\n",
    "    \\\n",
    "    + m_de / l_de * g * Piecewise((1, (x > D) & (x < E)), (0, True)) \\\n",
    "    + m_ef / l_ef * g * Piecewise((1, (x > E) & (x < F)), (0, True))\n",
    "\n",
    "display(Fx)"
   ]
  },
  {
   "cell_type": "code",
   "execution_count": 92,
   "id": "f9d6fe56",
   "metadata": {},
   "outputs": [
    {
     "data": {
      "text/latex": [
       "$\\displaystyle \\int\\limits_{0}^{l} \\begin{cases} 2000 \\delta\\left(x\\right) + 1000 \\delta\\left(x - 3.5\\right) + 1000 \\delta\\left(x - 3.25\\right) + 2000 \\delta\\left(x - 1.75\\right) + 619.047619047619 & \\text{for}\\: x > 0 \\wedge x > 1.75 \\wedge x < 1.75 \\wedge x < 3.25 \\\\2000 \\delta\\left(x\\right) + 1000 \\delta\\left(x - 3.5\\right) + 1000 \\delta\\left(x - 3.25\\right) + 2000 \\delta\\left(x - 1.75\\right) + 333.333333333333 & \\text{for}\\: x > 1.75 \\wedge x < 3.25 \\\\2000 \\delta\\left(x\\right) + 1000 \\delta\\left(x - 3.5\\right) + 1000 \\delta\\left(x - 3.25\\right) + 2000 \\delta\\left(x - 1.75\\right) + 285.714285714286 & \\text{for}\\: x > 0 \\wedge x < 1.75 \\\\2000 \\delta\\left(x\\right) + 1000 \\delta\\left(x - 3.5\\right) + 1000 \\delta\\left(x - 3.25\\right) + 2000 \\delta\\left(x - 1.75\\right) & \\text{otherwise} \\end{cases}\\, dx$"
      ],
      "text/plain": [
       "Integral(Piecewise((2000*DiracDelta(x) + 1000*DiracDelta(x - 3.5) + 1000*DiracDelta(x - 3.25) + 2000*DiracDelta(x - 1.75) + 619.047619047619, (x > 1.75) & (x < 1.75) & (x < 3.25) & (x > 0)), (2000*DiracDelta(x) + 1000*DiracDelta(x - 3.5) + 1000*DiracDelta(x - 3.25) + 2000*DiracDelta(x - 1.75) + 333.333333333333, (x > 1.75) & (x < 3.25)), (2000*DiracDelta(x) + 1000*DiracDelta(x - 3.5) + 1000*DiracDelta(x - 3.25) + 2000*DiracDelta(x - 1.75) + 285.714285714286, (x < 1.75) & (x > 0)), (2000*DiracDelta(x) + 1000*DiracDelta(x - 3.5) + 1000*DiracDelta(x - 3.25) + 2000*DiracDelta(x - 1.75), True)), (x, 0, l))"
      ]
     },
     "metadata": {},
     "output_type": "display_data"
    }
   ],
   "source": [
    "Qx = Integral(Fx, (x, 0, l))\n",
    "display(Qx)"
   ]
  },
  {
   "cell_type": "code",
   "execution_count": 93,
   "id": "55a04fb2",
   "metadata": {},
   "outputs": [
    {
     "data": {
      "text/latex": [
       "$\\displaystyle \\int\\limits_{0}^{l}\\int\\limits_{0}^{l} \\begin{cases} 2000 \\delta\\left(x\\right) + 1000 \\delta\\left(x - 3.5\\right) + 1000 \\delta\\left(x - 3.25\\right) + 2000 \\delta\\left(x - 1.75\\right) + 619.047619047619 & \\text{for}\\: x > 0 \\wedge x > 1.75 \\wedge x < 1.75 \\wedge x < 3.25 \\\\2000 \\delta\\left(x\\right) + 1000 \\delta\\left(x - 3.5\\right) + 1000 \\delta\\left(x - 3.25\\right) + 2000 \\delta\\left(x - 1.75\\right) + 333.333333333333 & \\text{for}\\: x > 1.75 \\wedge x < 3.25 \\\\2000 \\delta\\left(x\\right) + 1000 \\delta\\left(x - 3.5\\right) + 1000 \\delta\\left(x - 3.25\\right) + 2000 \\delta\\left(x - 1.75\\right) + 285.714285714286 & \\text{for}\\: x > 0 \\wedge x < 1.75 \\\\2000 \\delta\\left(x\\right) + 1000 \\delta\\left(x - 3.5\\right) + 1000 \\delta\\left(x - 3.25\\right) + 2000 \\delta\\left(x - 1.75\\right) & \\text{otherwise} \\end{cases}\\, dx\\, dx$"
      ],
      "text/plain": [
       "Integral(Piecewise((2000*DiracDelta(x) + 1000*DiracDelta(x - 3.5) + 1000*DiracDelta(x - 3.25) + 2000*DiracDelta(x - 1.75) + 619.047619047619, (x > 1.75) & (x < 1.75) & (x < 3.25) & (x > 0)), (2000*DiracDelta(x) + 1000*DiracDelta(x - 3.5) + 1000*DiracDelta(x - 3.25) + 2000*DiracDelta(x - 1.75) + 333.333333333333, (x > 1.75) & (x < 3.25)), (2000*DiracDelta(x) + 1000*DiracDelta(x - 3.5) + 1000*DiracDelta(x - 3.25) + 2000*DiracDelta(x - 1.75) + 285.714285714286, (x < 1.75) & (x > 0)), (2000*DiracDelta(x) + 1000*DiracDelta(x - 3.5) + 1000*DiracDelta(x - 3.25) + 2000*DiracDelta(x - 1.75), True)), (x, 0, l), (x, 0, l))"
      ]
     },
     "metadata": {},
     "output_type": "display_data"
    }
   ],
   "source": [
    "Mx = Integral(Qx, (x, 0, l))\n",
    "display(Mx)"
   ]
  },
  {
   "cell_type": "code",
   "execution_count": null,
   "id": "6cf0112d",
   "metadata": {},
   "outputs": [],
   "source": []
  },
  {
   "cell_type": "code",
   "execution_count": null,
   "id": "91fb50ee",
   "metadata": {},
   "outputs": [
    {
     "data": {
      "text/latex": [
       "$\\displaystyle 1.0 \\cdot 10^{3}$"
      ],
      "text/plain": [
       "0.e+3"
      ]
     },
     "metadata": {},
     "output_type": "display_data"
    }
   ],
   "source": [
    "result = Qx.subs(l, 0).evalf()\n",
    "\n",
    "display(result)  # Outputs: 9"
   ]
  }
 ],
 "metadata": {
  "kernelspec": {
   "display_name": ".venv",
   "language": "python",
   "name": "python3"
  },
  "language_info": {
   "codemirror_mode": {
    "name": "ipython",
    "version": 3
   },
   "file_extension": ".py",
   "mimetype": "text/x-python",
   "name": "python",
   "nbconvert_exporter": "python",
   "pygments_lexer": "ipython3",
   "version": "3.13.0"
  }
 },
 "nbformat": 4,
 "nbformat_minor": 5
}
